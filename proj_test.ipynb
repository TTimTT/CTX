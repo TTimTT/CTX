{
 "cells": [
  {
   "cell_type": "code",
   "execution_count": 9,
   "metadata": {},
   "outputs": [],
   "source": [
    "import pandas as pd\n",
    "import re\n",
    "from bs4 import BeautifulSoup\n",
    "\n",
    "DATA_FOLDER = './recipePages/'\n",
    "html_string = DATA_FOLDER + '0a7e6e2cae6d4da800d13ef59e760dd3.html'"
   ]
  },
  {
   "cell_type": "code",
   "execution_count": 12,
   "metadata": {
    "scrolled": false
   },
   "outputs": [
    {
     "data": {
      "text/plain": [
       "[<li class=\"plaincharacterwrap ingredient\">\n",
       "                     1 cup all-purpose flour</li>,\n",
       " <li class=\"plaincharacterwrap ingredient\">\n",
       "                     1 tablespoon baking powder</li>,\n",
       " <li class=\"plaincharacterwrap ingredient\">\n",
       "                     1/2 teaspoon baking soda</li>,\n",
       " <li class=\"plaincharacterwrap ingredient\">\n",
       "                     1/4 teaspoon salt</li>,\n",
       " <li class=\"plaincharacterwrap ingredient\">\n",
       "                     1 cup mashed ripe banana</li>,\n",
       " <li class=\"plaincharacterwrap ingredient\">\n",
       "                     1/4 cup white sugar</li>,\n",
       " <li class=\"plaincharacterwrap ingredient\">\n",
       "                     1/4 cup sour cream</li>,\n",
       " <li class=\"plaincharacterwrap ingredient\">\n",
       "                     1 egg</li>,\n",
       " <li class=\"plaincharacterwrap ingredient\">\n",
       "                     1/2 teaspoon vanilla extract</li>]"
      ]
     },
     "execution_count": 12,
     "metadata": {},
     "output_type": "execute_result"
    }
   ],
   "source": [
    "html = open(html_string,'r')\n",
    "soup = BeautifulSoup(open(html_string), 'html.parser')\n",
    "\n",
    "gla = re.compile(\"ingredients\", re.IGNORECASE)\n",
    "soup.findAll(\"li\", {\"class\": \"ingredient\"})"
   ]
  },
  {
   "cell_type": "code",
   "execution_count": null,
   "metadata": {},
   "outputs": [],
   "source": []
  }
 ],
 "metadata": {
  "kernelspec": {
   "display_name": "Python 3",
   "language": "python",
   "name": "python3"
  },
  "language_info": {
   "codemirror_mode": {
    "name": "ipython",
    "version": 3
   },
   "file_extension": ".py",
   "mimetype": "text/x-python",
   "name": "python",
   "nbconvert_exporter": "python",
   "pygments_lexer": "ipython3",
   "version": "3.6.6"
  }
 },
 "nbformat": 4,
 "nbformat_minor": 2
}
