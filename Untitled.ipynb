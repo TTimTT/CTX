{
 "cells": [
  {
   "cell_type": "code",
   "execution_count": 1,
   "metadata": {},
   "outputs": [
    {
     "data": {
      "text/plain": [
       "dict_keys(['type', 'features'])"
      ]
     },
     "execution_count": 1,
     "metadata": {},
     "output_type": "execute_result"
    }
   ],
   "source": [
    "import json # install from https://github.com/sgillies\n",
    "import json\n",
    "import numpy as np\n",
    "\n",
    "with open(\"./data/recipes_map.json\") as json_file:\n",
    "    jdata = json_file.read()\n",
    "    geoJSON = json.loads(jdata)\n",
    "\n",
    "geoJSON.keys()"
   ]
  },
  {
   "cell_type": "code",
   "execution_count": 2,
   "metadata": {},
   "outputs": [
    {
     "data": {
      "text/plain": [
       "dict_keys(['type', 'properties', 'geometry'])"
      ]
     },
     "execution_count": 2,
     "metadata": {},
     "output_type": "execute_result"
    }
   ],
   "source": [
    "geoJSON['features'][0].keys()"
   ]
  },
  {
   "cell_type": "code",
   "execution_count": 3,
   "metadata": {},
   "outputs": [],
   "source": [
    "pts=[]#list of points defining boundaries of polygons\n",
    "for  feature in geoJSON['features']:\n",
    "    if feature['geometry']['type']=='Polygon':\n",
    "        pts.extend(feature['geometry']['coordinates'][0])    \n",
    "        pts.append([None, None])#mark the end of a polygon   \n",
    "        \n",
    "    elif feature['geometry']['type']=='MultiPolygon':\n",
    "        for polyg in feature['geometry']['coordinates']:\n",
    "            pts.extend(polyg[0])\n",
    "            pts.append([None, None])#end of polygon\n",
    "    else: raise ValueError(\"geometry type irrelevant for map\")    \n"
   ]
  },
  {
   "cell_type": "code",
   "execution_count": 4,
   "metadata": {},
   "outputs": [],
   "source": [
    "X, Y=zip(*pts)"
   ]
  },
  {
   "cell_type": "code",
   "execution_count": 5,
   "metadata": {},
   "outputs": [
    {
     "name": "stdout",
     "output_type": "stream",
     "text": [
      "3.1.1\n"
     ]
    }
   ],
   "source": [
    "import plotly.plotly as py\n",
    "from plotly import __version__\n",
    "from plotly.offline import download_plotlyjs, init_notebook_mode, plot, iplot\n",
    "\n",
    "print(__version__)# requires version >= 1.9.0"
   ]
  },
  {
   "cell_type": "code",
   "execution_count": 6,
   "metadata": {},
   "outputs": [
    {
     "data": {
      "text/plain": [
       "'file:///home/tim/Documents/ADA/CTX/temp-plot.html'"
      ]
     },
     "execution_count": 6,
     "metadata": {},
     "output_type": "execute_result"
    }
   ],
   "source": [
    "\n",
    "\n",
    "import plotly.graph_objs as go\n",
    "\n",
    "plot([go.Scatter(x=[1, 2, 3], y=[3, 1, 6])])\n",
    "\n"
   ]
  },
  {
   "cell_type": "code",
   "execution_count": 7,
   "metadata": {},
   "outputs": [
    {
     "name": "stderr",
     "output_type": "stream",
     "text": [
      "/nix/store/zyh2ns4ax54kjrng9fkgnwkp5l4cryq6-python3-3.6.6-env/lib/python3.6/site-packages/plotly/offline/offline.py:463: UserWarning:\n",
      "\n",
      "Your filename `World Recipes` didn't end with .html. Adding .html to the end of your file.\n",
      "\n"
     ]
    },
    {
     "data": {
      "text/plain": [
       "'file:///home/tim/Documents/ADA/CTX/World Recipes.html'"
      ]
     },
     "execution_count": 7,
     "metadata": {},
     "output_type": "execute_result"
    }
   ],
   "source": [
    "data=[dict(type='scatter',\n",
    "          x=X,\n",
    "          y=Y,\n",
    "          mode='lines',\n",
    "          line=dict(width=0.5, color='blue'),\n",
    "          )]\n",
    "\n",
    "axis_style=dict(showline=False, \n",
    "                mirror=False, \n",
    "                showgrid=False, \n",
    "                zeroline=False,\n",
    "                ticks='',\n",
    "                showticklabels=False)\n",
    "\n",
    "layout=dict(title='World regions',\n",
    "            width=None, height=None, \n",
    "            autosize=True,\n",
    "            xaxis=axis_style,\n",
    "            yaxis=axis_style,\n",
    "            hovermode='closest')\n",
    "\n",
    "fig=dict(data=data, layout=layout)\n",
    "plot(fig, filename='World Recipes')"
   ]
  },
  {
   "cell_type": "code",
   "execution_count": 8,
   "metadata": {},
   "outputs": [
    {
     "name": "stderr",
     "output_type": "stream",
     "text": [
      "/nix/store/zyh2ns4ax54kjrng9fkgnwkp5l4cryq6-python3-3.6.6-env/lib/python3.6/site-packages/plotly/offline/offline.py:463: UserWarning:\n",
      "\n",
      "Your filename `d3-cloropleth-map` didn't end with .html. Adding .html to the end of your file.\n",
      "\n"
     ]
    },
    {
     "data": {
      "text/plain": [
       "'file:///home/tim/Documents/ADA/CTX/d3-cloropleth-map.html'"
      ]
     },
     "execution_count": 8,
     "metadata": {},
     "output_type": "execute_result"
    }
   ],
   "source": [
    "import plotly.plotly as py\n",
    "import pandas as pd\n",
    "\n",
    "df = pd.read_csv('https://raw.githubusercontent.com/plotly/datasets/master/2011_us_ag_exports.csv')\n",
    "\n",
    "for col in df.columns:\n",
    "    df[col] = df[col].astype(str)\n",
    "\n",
    "scl = [[0.0, 'rgb(242,240,247)'],[0.2, 'rgb(218,218,235)'],[0.4, 'rgb(188,189,220)'],\\\n",
    "            [0.6, 'rgb(158,154,200)'],[0.8, 'rgb(117,107,177)'],[1.0, 'rgb(84,39,143)']]\n",
    "\n",
    "df['text'] = df['state'] + '<br>' +\\\n",
    "    'Beef '+df['beef']+' Dairy '+df['dairy']+'<br>'+\\\n",
    "    'Fruits '+df['total fruits']+' Veggies ' + df['total veggies']+'<br>'+\\\n",
    "    'Wheat '+df['wheat']+' Corn '+df['corn']\n",
    "\n",
    "data = [ dict(\n",
    "        type='choropleth',\n",
    "        colorscale = scl,\n",
    "        autocolorscale = False,\n",
    "        locations = df['code'],\n",
    "        z = df['total exports'].astype(float),\n",
    "        locationmode = 'USA-states',\n",
    "        text = df['text'],\n",
    "        marker = dict(\n",
    "            line = dict (\n",
    "                color = 'rgb(255,255,255)',\n",
    "                width = 2\n",
    "            ) ),\n",
    "        colorbar = dict(\n",
    "            title = \"Millions USD\")\n",
    "        ) ]\n",
    "    \n",
    "fig = dict( data=data, layout=layout )\n",
    "plot( fig, filename='d3-cloropleth-map' )"
   ]
  },
  {
   "cell_type": "code",
   "execution_count": null,
   "metadata": {},
   "outputs": [],
   "source": []
  }
 ],
 "metadata": {
  "kernelspec": {
   "display_name": "Python 3",
   "language": "python",
   "name": "python3"
  },
  "language_info": {
   "codemirror_mode": {
    "name": "ipython",
    "version": 3
   },
   "file_extension": ".py",
   "mimetype": "text/x-python",
   "name": "python",
   "nbconvert_exporter": "python",
   "pygments_lexer": "ipython3",
   "version": "3.6.6"
  }
 },
 "nbformat": 4,
 "nbformat_minor": 2
}
