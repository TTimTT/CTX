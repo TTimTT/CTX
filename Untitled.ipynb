{
 "cells": [
  {
   "cell_type": "code",
   "execution_count": 6,
   "metadata": {},
   "outputs": [
    {
     "data": {
      "text/plain": [
       "dict_keys(['type', 'features'])"
      ]
     },
     "execution_count": 6,
     "metadata": {},
     "output_type": "execute_result"
    }
   ],
   "source": [
    "import json # install from https://github.com/sgillies\n",
    "import json\n",
    "import numpy as np\n",
    "\n",
    "with open(\"./data/recipes_map.json\") as json_file:\n",
    "    jdata = json_file.read()\n",
    "    geoJSON = json.loads(jdata)\n",
    "\n",
    "geoJSON.keys()"
   ]
  },
  {
   "cell_type": "code",
   "execution_count": 23,
   "metadata": {},
   "outputs": [
    {
     "data": {
      "text/plain": [
       "dict_keys(['type', 'properties', 'geometry'])"
      ]
     },
     "execution_count": 23,
     "metadata": {},
     "output_type": "execute_result"
    }
   ],
   "source": [
    "geoJSON['features'][0].keys()"
   ]
  },
  {
   "cell_type": "code",
   "execution_count": 24,
   "metadata": {},
   "outputs": [],
   "source": [
    "pts=[]#list of points defining boundaries of polygons\n",
    "for  feature in geoJSON['features']:\n",
    "    if feature['geometry']['type']=='Polygon':\n",
    "        pts.extend(feature['geometry']['coordinates'][0])    \n",
    "        pts.append([None, None])#mark the end of a polygon   \n",
    "        \n",
    "    elif feature['geometry']['type']=='MultiPolygon':\n",
    "        for polyg in feature['geometry']['coordinates']:\n",
    "            pts.extend(polyg[0])\n",
    "            pts.append([None, None])#end of polygon\n",
    "    else: raise ValueError(\"geometry type irrelevant for map\")    \n"
   ]
  },
  {
   "cell_type": "code",
   "execution_count": 28,
   "metadata": {},
   "outputs": [],
   "source": [
    "X, Y=zip(*pts)"
   ]
  },
  {
   "cell_type": "code",
   "execution_count": 35,
   "metadata": {},
   "outputs": [
    {
     "name": "stdout",
     "output_type": "stream",
     "text": [
      "3.1.1\n"
     ]
    }
   ],
   "source": [
    "import plotly.plotly as py\n",
    "from plotly import __version__\n",
    "from plotly.offline import download_plotlyjs, init_notebook_mode, plot, iplot\n",
    "\n",
    "print(__version__)# requires version >= 1.9.0"
   ]
  },
  {
   "cell_type": "code",
   "execution_count": 40,
   "metadata": {},
   "outputs": [
    {
     "data": {
      "text/plain": [
       "'file:///home/tim/Documents/ADA/CTX/temp-plot.html'"
      ]
     },
     "execution_count": 40,
     "metadata": {},
     "output_type": "execute_result"
    }
   ],
   "source": [
    "\n",
    "\n",
    "import plotly.graph_objs as go\n",
    "\n",
    "plot([go.Scatter(x=[1, 2, 3], y=[3, 1, 6])])\n",
    "\n"
   ]
  },
  {
   "cell_type": "code",
   "execution_count": 44,
   "metadata": {},
   "outputs": [
    {
     "name": "stderr",
     "output_type": "stream",
     "text": [
      "/nix/store/zyh2ns4ax54kjrng9fkgnwkp5l4cryq6-python3-3.6.6-env/lib/python3.6/site-packages/plotly/offline/offline.py:463: UserWarning:\n",
      "\n",
      "Your filename `World Recipes` didn't end with .html. Adding .html to the end of your file.\n",
      "\n"
     ]
    },
    {
     "data": {
      "text/plain": [
       "'file:///home/tim/Documents/ADA/CTX/World Recipes.html'"
      ]
     },
     "execution_count": 44,
     "metadata": {},
     "output_type": "execute_result"
    }
   ],
   "source": [
    "data=[dict(type='scatter',\n",
    "          x=X,\n",
    "          y=Y,\n",
    "          mode='lines',\n",
    "          line=dict(width=0.5, color='blue'),\n",
    "          )]\n",
    "\n",
    "axis_style=dict(showline=False, \n",
    "                mirror=False, \n",
    "                showgrid=False, \n",
    "                zeroline=False,\n",
    "                ticks='',\n",
    "                showticklabels=False)\n",
    "\n",
    "layout=dict(title='World regions',\n",
    "            width=None, height=None, \n",
    "            autosize=True,\n",
    "            xaxis=axis_style,\n",
    "            yaxis=axis_style,\n",
    "            hovermode='closest')\n",
    "\n",
    "fig=dict(data=data, layout=layout)\n",
    "plot(fig, filename='World Recipes')"
   ]
  },
  {
   "cell_type": "code",
   "execution_count": null,
   "metadata": {},
   "outputs": [],
   "source": []
  }
 ],
 "metadata": {
  "kernelspec": {
   "display_name": "Python 3",
   "language": "python",
   "name": "python3"
  },
  "language_info": {
   "codemirror_mode": {
    "name": "ipython",
    "version": 3
   },
   "file_extension": ".py",
   "mimetype": "text/x-python",
   "name": "python",
   "nbconvert_exporter": "python",
   "pygments_lexer": "ipython3",
   "version": "3.6.6"
  }
 },
 "nbformat": 4,
 "nbformat_minor": 2
}
