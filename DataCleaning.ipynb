{
 "cells": [
  {
   "cell_type": "markdown",
   "metadata": {},
   "source": [
    "# TODO Markdown title here and explaination"
   ]
  },
  {
   "cell_type": "code",
   "execution_count": 1,
   "metadata": {},
   "outputs": [],
   "source": [
    "import re\n",
    "import os.path\n",
    "import numpy as np\n",
    "import scipy as sp\n",
    "import pandas as pd\n",
    "from bs4 import BeautifulSoup\n",
    "\n",
    "import seaborn as sns\n",
    "import matplotlib.pyplot as plt\n",
    "\n",
    "from pyspark.sql import *\n",
    "import pyspark.sql.functions as f # wierd that I have to do that"
   ]
  },
  {
   "cell_type": "code",
   "execution_count": 2,
   "metadata": {},
   "outputs": [],
   "source": [
    "# General parameters\n",
    "%matplotlib inline\n",
    "plt.style.use('seaborn')#switch to seaborn style\n",
    "plt.rcParams[\"figure.figsize\"] = [16,10]\n",
    "\n",
    "spark = SparkSession.builder.getOrCreate()\n",
    "\n",
    "DATA_FOLDER = './data/'\n",
    "RECIPES_PATH = DATA_FOLDER + 'recipePages/'"
   ]
  },
  {
   "cell_type": "code",
   "execution_count": 66,
   "metadata": {},
   "outputs": [],
   "source": [
    "# TODO: for loop\n",
    "html_string = RECIPES_PATH + '0a7e6e2cae6d4da800d13ef59e760dd3.html'\n",
    "html = open(html_string,'r')\n",
    "soup = BeautifulSoup(open(html_string), 'html.parser')"
   ]
  },
  {
   "cell_type": "code",
   "execution_count": 67,
   "metadata": {},
   "outputs": [
    {
     "data": {
      "text/plain": [
       "'Banana Muffins I Recipe - Allrecipes.com'"
      ]
     },
     "execution_count": 67,
     "metadata": {},
     "output_type": "execute_result"
    }
   ],
   "source": [
    "# Title of the recipe, TODO remove the website name?\n",
    "re.sub(r'\\n|\\t', '',soup.title.text)"
   ]
  },
  {
   "cell_type": "code",
   "execution_count": 68,
   "metadata": {},
   "outputs": [
    {
     "data": {
      "text/plain": [
       "['1 cup all-purpose flour',\n",
       " '1 tablespoon baking powder',\n",
       " '1/2 teaspoon baking soda',\n",
       " '1/4 teaspoon salt',\n",
       " '1 cup mashed ripe banana',\n",
       " '1/4 cup white sugar',\n",
       " '1/4 cup sour cream',\n",
       " '1 egg',\n",
       " '1/2 teaspoon vanilla extract']"
      ]
     },
     "execution_count": 68,
     "metadata": {},
     "output_type": "execute_result"
    }
   ],
   "source": [
    "# Get All the ingredients\n",
    "ingredient_list = list()\n",
    "for tag in soup.findAll(\"li\", {\"class\": re.compile('.*ingredient*')}):\n",
    "    ingredient_list.append(re.sub(r'\\n|  ', '', tag.text))\n",
    "    \n",
    "    #ingredient_dict.update({tag.get(\"class\")[0]: tag.text})\n",
    "        \n",
    "# Printing     \n",
    "ingredient_list"
   ]
  },
  {
   "cell_type": "code",
   "execution_count": 69,
   "metadata": {},
   "outputs": [
    {
     "data": {
      "text/plain": [
       "{'calories': '88',\n",
       " 'fat': '1.6g',\n",
       " 'cholesterol': '20mg',\n",
       " 'sodium': '194mg',\n",
       " 'totalcarbs': '16.9g',\n",
       " 'dietaryfiber': '0.8g',\n",
       " 'protein': '2g'}"
      ]
     },
     "execution_count": 69,
     "metadata": {},
     "output_type": "execute_result"
    }
   ],
   "source": [
    "# Fetch nutritional information\n",
    "# TODO, we can get WAY MORE if you look just below in the website\n",
    "# how can we store all the informations if somes are missing?\n",
    "nutritive_info = soup.findAll(\"div\", {\"id\": re.compile('.*nutri*')})\n",
    "nutritive_info\n",
    "\n",
    "# Sub Extracting nutritive informations per Serving\n",
    "soup_nutrition = BeautifulSoup(str(nutritive_info[0]), 'html.parser')\n",
    "\n",
    "# Awesome!!!! TODO\n",
    "nutrition_dict = {}\n",
    "for tag in soup_nutrition.findAll('span'):\n",
    "    nutrition_dict.update({tag.get(\"class\")[0]: tag.text})\n",
    "\n",
    "# Printing\n",
    "nutrition_dict"
   ]
  }
 ],
 "metadata": {
  "kernelspec": {
   "display_name": "Python 3",
   "language": "python",
   "name": "python3"
  },
  "language_info": {
   "codemirror_mode": {
    "name": "ipython",
    "version": 3
   },
   "file_extension": ".py",
   "mimetype": "text/x-python",
   "name": "python",
   "nbconvert_exporter": "python",
   "pygments_lexer": "ipython3",
   "version": "3.6.6"
  }
 },
 "nbformat": 4,
 "nbformat_minor": 2
}
