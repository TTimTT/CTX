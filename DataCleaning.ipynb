{
 "cells": [
  {
   "cell_type": "markdown",
   "metadata": {},
   "source": [
    "# TODO Markdown title here and explaination"
   ]
  },
  {
   "cell_type": "code",
   "execution_count": 45,
   "metadata": {},
   "outputs": [],
   "source": [
    "import re\n",
    "import os.path\n",
    "import uritools\n",
    "import numpy as np\n",
    "import scipy as sp\n",
    "import pandas as pd\n",
    "from bs4 import BeautifulSoup\n",
    "\n",
    "import seaborn as sns\n",
    "import matplotlib.pyplot as plt\n",
    "\n",
    "from pyspark.sql import *\n",
    "import pyspark.sql.functions as f # wierd that I have to do that"
   ]
  },
  {
   "cell_type": "code",
   "execution_count": 46,
   "metadata": {},
   "outputs": [],
   "source": [
    "# General parameters\n",
    "%matplotlib inline\n",
    "plt.style.use('seaborn')#switch to seaborn style\n",
    "plt.rcParams[\"figure.figsize\"] = [16,10]\n",
    "\n",
    "#spark = SparkSession.builder.getOrCreate()\n",
    "\n",
    "DATA_FOLDER = './data/'\n",
    "RECIPES_PATH = DATA_FOLDER + 'recipePages/'"
   ]
  },
  {
   "cell_type": "code",
   "execution_count": 47,
   "metadata": {},
   "outputs": [],
   "source": [
    "# TODO: for loop\n",
    "def test_loader(filename):\n",
    "    \n",
    "    html_string = RECIPES_PATH + filename \n",
    "    html = open(html_string,'r')\n",
    "    soup = BeautifulSoup(open(html_string), 'html.parser')\n",
    "    print(re.sub(r'\\n|\\t', '',soup.title.text))\n",
    "    \n",
    "    return soup"
   ]
  },
  {
   "cell_type": "markdown",
   "metadata": {},
   "source": [
    "**Flow chart**\n",
    "- Check every website name <- **done, some are not really helpful**\n",
    "- create for each website a dedicated function to fetch informations\n",
    "- Keep in mind to avoid empty recipes website ( as index pages)\n",
    "- save all this to a pysprk parquet file "
   ]
  },
  {
   "cell_type": "markdown",
   "metadata": {},
   "source": [
    "**myrecipes.com**"
   ]
  },
  {
   "cell_type": "code",
   "execution_count": 131,
   "metadata": {},
   "outputs": [],
   "source": [
    "def scrap_myrecipes_com( soup ):\n",
    "    \n",
    "    #<li itemprop=\"ingredient\" itemscope=\"\" itemtype=\"http://data-vocabulary.org/RecipeIngredient\">\n",
    "    #<span itemprop=\"amount\">1 cup</span>\n",
    "    #<span itemprop=\"name\"> chopped tomato</span>\n",
    "    #<span itemprop=\"preparation\"> </span>\n",
    "    #</li>\n",
    "    # Get All the ingredients\n",
    "    ingredient_list = list()\n",
    "    for tag in soup.findAll(\"li\", {\"itemprop\": re.compile('.*ingredient*', flags=re.IGNORECASE)}):\n",
    "        ingredient_list.append(re.sub(r'\\n|  ', '', tag.text))\n",
    "\n",
    "    ## How to append to list?\n",
    "    # If 'banana' doesnt exist in the list -> add mashed ripe banana to the list\n",
    "    # if afterwards we see banana, by regex matching we should get back mashed ripe banana, in this case we rename\n",
    "    # the mashed ripe to banana ( comparing the size of the keywords)\n",
    "\n",
    "    # Fetch nutritional information\n",
    "    # TODO, we can get WAY MORE if you look just below in the website\n",
    "    # how can we store all the informations if somes are missing?\n",
    "    soup.findAll(True, {\"class\": re.compile('.*nutri*.', flags=re.IGNORECASE)})\n",
    "\n",
    "    # Sub Extracting nutritive informations per Serving\n",
    "    soup_nutrition = BeautifulSoup(str(nutritive_info), 'html.parser')\n",
    "\n",
    "    # Nutrition values\n",
    "    nutrition_dict = {}\n",
    "    for tag in soup_nutrition.findAll('span'):\n",
    "        nutrition_dict.update({tag.get(\"class\")[0]: tag.text})\n",
    "\n",
    "    # Recipe Title\n",
    "    title = re.sub(r'\\n|\\t', '',soup.title.text).split('|')[0]\n",
    "\n",
    "    # Ratings\n",
    "    rating = soup.find(attrs={\"name\": \"recipe_average_rating\"})\n",
    "    rating = re.findall(r'\\d+|\\d+\\.\\d+', str(rating), re.IGNORECASE)[0]\n",
    "    #n_rating = soup.findAll(\"span\", {\"class\": \"count\"})[0].text\n",
    "    \n",
    "    return title, ingredient_list, nutrition_dict, rating"
   ]
  },
  {
   "cell_type": "code",
   "execution_count": 132,
   "metadata": {
    "scrolled": false
   },
   "outputs": [
    {
     "name": "stdout",
     "output_type": "stream",
     "text": [
      "Quick Roasted-Vegetable Fajitas Recipe | MyRecipes.com\n"
     ]
    },
    {
     "data": {
      "text/plain": [
       "('Quick Roasted-Vegetable Fajitas Recipe ',\n",
       " ['2 1/2 cups julienne-cut zucchini ',\n",
       "  '2 cups julienne-cut yellow squash ',\n",
       "  '2 cups red bell pepper strips ',\n",
       "  '1 1/2 cups vertically sliced red onion ',\n",
       "  '3 tablespoons vegetable soup and dip mix (such as Lipton Recipe Secrets) ',\n",
       "  '4 teaspoons olive oil ',\n",
       "  '8  (8-inch) flour tortillas ',\n",
       "  '1  (16-ounce) can fat-free refried beans ',\n",
       "  '2 cups shredded leaf lettuce ',\n",
       "  '1 cup (4 ounces) reduced-fat shredded cheddar cheese ',\n",
       "  '1 cup chopped tomato ',\n",
       "  '1/2 cup bottled salsa '],\n",
       " {'calories': '88',\n",
       "  'fat': '1.6g',\n",
       "  'cholesterol': '20mg',\n",
       "  'sodium': '194mg',\n",
       "  'totalcarbs': '16.9g',\n",
       "  'dietaryfiber': '0.8g',\n",
       "  'protein': '2g'},\n",
       " '0')"
      ]
     },
     "execution_count": 132,
     "metadata": {},
     "output_type": "execute_result"
    }
   ],
   "source": [
    "## Test\n",
    "soup = test_loader('1710f9ca5c3a03bfd6688570a5a6a46b.html');\n",
    "scrap_myrecipes_com(soup)"
   ]
  },
  {
   "cell_type": "markdown",
   "metadata": {},
   "source": [
    "**cdkitchen.com**"
   ]
  },
  {
   "cell_type": "code",
   "execution_count": 162,
   "metadata": {},
   "outputs": [],
   "source": [
    "def scrap_cdkitchen_com( soup ):\n",
    "    \n",
    "    #<li itemprop=\"ingredient\" itemscope=\"\" itemtype=\"http://data-vocabulary.org/RecipeIngredient\">\n",
    "    #<span itemprop=\"amount\">1 cup</span>\n",
    "    #<span itemprop=\"name\"> chopped tomato</span>\n",
    "    #<span itemprop=\"preparation\"> </span>\n",
    "    #</li>\n",
    "    # Get All the ingredients\n",
    "    ingredient_list = list() # TODO returns only the ingredient no proportions is retrieved\n",
    "    for tag in soup.findAll(True, {\"itemprop\": re.compile('.*ingredient*', flags=re.IGNORECASE)}):\n",
    "        ingredient_list.append(re.sub(r'\\n|  ', '', tag.text))\n",
    "\n",
    "    print(ingredient_list)\n",
    "    ## How to append to list?\n",
    "    # If 'banana' doesnt exist in the list -> add mashed ripe banana to the list\n",
    "    # if afterwards we see banana, by regex matching we should get back mashed ripe banana, in this case we rename\n",
    "    # the mashed ripe to banana ( comparing the size of the keywords)\n",
    "\n",
    "    # Fetch nutritional information\n",
    "    # TODO, we can get WAY MORE if you look just below in the website\n",
    "    # how can we store all the informations if somes are missing?\n",
    "    soup.findAll(True, {\"class\": re.compile('.*nutri*.', flags=re.IGNORECASE)})\n",
    "\n",
    "    # Sub Extracting nutritive informations per Serving\n",
    "    soup_nutrition = BeautifulSoup(str(nutritive_info), 'html.parser')\n",
    "\n",
    "    # Nutrition values\n",
    "    nutrition_dict = {}\n",
    "    for tag in soup_nutrition.findAll('span'):\n",
    "        nutrition_dict.update({tag.get(\"class\")[0]: tag.text})\n",
    "\n",
    "    # Recipe Title\n",
    "    title = re.sub(r'\\n|\\t', '',soup.title.text).split('|')[0]\n",
    "\n",
    "    # Ratings\n",
    "    rating = soup.find(attrs={\"name\": \"recipe_average_rating\"})\n",
    "    rating = re.findall(r'\\d+|\\d+\\.\\d+', str(rating), re.IGNORECASE)[0]\n",
    "    #n_rating = soup.findAll(\"span\", {\"class\": \"count\"})[0].text\n",
    "    \n",
    "    return title, ingredient_list, nutrition_dict, rating"
   ]
  },
  {
   "cell_type": "code",
   "execution_count": 167,
   "metadata": {
    "scrolled": true
   },
   "outputs": [
    {
     "name": "stdout",
     "output_type": "stream",
     "text": [
      "Kentucky Derby Thoroughbred Pie Recipe from CDKitchen.com\n"
     ]
    }
   ],
   "source": [
    "## Test\n",
    "soup = test_loader('007d33623f319508995db278ad90de3d.html');\n",
    "#scrap_cdkitchen_com(soup)"
   ]
  },
  {
   "cell_type": "markdown",
   "metadata": {},
   "source": [
    "**ifood.tv**"
   ]
  },
  {
   "cell_type": "markdown",
   "metadata": {
    "scrolled": true
   },
   "source": [
    "def scrap_ifood_tv( soup ):\n",
    "    \n",
    "    # Get All the ingredients\n",
    "    ingredient_list = list()\n",
    "    for tag in soup.findAll(True, {\"itemprop\": re.compile('.*ingredient*', flags=re.IGNORECASE)}):\n",
    "        ingredient_list.append(re.sub(r'\\n|  ', '', tag.text))\n",
    "\n",
    "    print(ingredient_list)\n",
    "    ## How to append to list?\n",
    "    # If 'banana' doesnt exist in the list -> add mashed ripe banana to the list\n",
    "    # if afterwards we see banana, by regex matching we should get back mashed ripe banana, in this case we rename\n",
    "    # the mashed ripe to banana ( comparing the size of the keywords)\n",
    "\n",
    "    # Fetch nutritional information\n",
    "    # TODO, we can get WAY MORE if you look just below in the website\n",
    "    # how can we store all the informations if somes are missing?\n",
    "    nutritive_info = soup.findAll(True, {\"id\": re.compile('.*nutri*.', flags=re.IGNORECASE)})\n",
    "\n",
    "    # Sub Extracting nutritive informations per Serving\n",
    "    soup_nutrition = BeautifulSoup(str(nutritive_info), 'html.parser')\n",
    "\n",
    "    # Nutrition values\n",
    "    nutrition_dict = {}\n",
    "    for tag in soup_nutrition.findAll('span'):\n",
    "        nutrition_dict.update({tag.get(\"class\")[0]: tag.text})\n",
    "\n",
    "    # Recipe Title\n",
    "    title = re.sub(r'\\n|\\t|  ', '', soup_nutrition.findAll('div', {'class': 'rectitle'})[0].text)\n",
    "\n",
    "    # Ratings\n",
    "    rating = re.search(r'AverageRating\":(\\d+\\.\\d+)',soup.text, re.IGNORECASE).group(1)\n",
    "    n_rating = soup.findAll(\"span\", {\"class\": \"count\"})[0].text\n",
    "\n",
    "    #\n",
    "    return title, ingredient_list, nutrition_dict, rating"
   ]
  },
  {
   "cell_type": "markdown",
   "metadata": {
    "scrolled": true
   },
   "source": [
    "## Test, TODO bad site\n",
    "soup = test_loader('004598453f5a3067b9b1e9d8bdc9e630.html');\n",
    "#scrap_ifood_tv(soup)\n",
    "soup.findAll(True, {\"id\": re.compile('.*nutri*.', flags=re.IGNORECASE)})\n",
    "soup"
   ]
  },
  {
   "cell_type": "markdown",
   "metadata": {},
   "source": [
    "**allrecipe.com**"
   ]
  },
  {
   "cell_type": "code",
   "execution_count": 134,
   "metadata": {},
   "outputs": [],
   "source": [
    "def scrap_AllRecipe_com( soup ):\n",
    "    # Get All the ingredients\n",
    "    ingredient_list = list()\n",
    "    for tag in soup.findAll(\"li\", {\"class\": re.compile('.*ingredient*', flags=re.IGNORECASE)}):\n",
    "        ingredient_list.append(re.sub(r'\\n|  ', '', tag.text))\n",
    "\n",
    "    ## How to append to list?\n",
    "    # If 'banana' doesnt exist in the list -> add mashed ripe banana to the list\n",
    "    # if afterwards we see banana, by regex matching we should get back mashed ripe banana, in this case we rename\n",
    "    # the mashed ripe to banana ( comparing the size of the keywords)\n",
    "\n",
    "    # Fetch nutritional information\n",
    "    # TODO, we can get WAY MORE if you look just below in the website\n",
    "    # how can we store all the informations if somes are missing?\n",
    "    nutritive_info = soup.findAll(True, {\"id\": re.compile('.*nutri*.', flags=re.IGNORECASE)})\n",
    "\n",
    "    # Sub Extracting nutritive informations per Serving\n",
    "    soup_nutrition = BeautifulSoup(str(nutritive_info), 'html.parser')\n",
    "\n",
    "    # Nutrition values\n",
    "    nutrition_dict = {}\n",
    "    for tag in soup_nutrition.findAll('span'):\n",
    "        nutrition_dict.update({tag.get(\"class\")[0]: tag.text})\n",
    "\n",
    "    # Recipe Title\n",
    "    title = re.sub(r'\\n|\\t|  ', '', soup_nutrition.findAll('div', {'class': 'rectitle'})[0].text)\n",
    "\n",
    "    # Ratings\n",
    "    rating = re.search(r'AverageRating\":(\\d+\\.\\d+)',soup.text, re.IGNORECASE).group(1)\n",
    "    n_rating = soup.findAll(\"span\", {\"class\": \"count\"})[0].text\n",
    "\n",
    "    #\n",
    "    return title, ingredient_list, nutrition_dict, rating"
   ]
  },
  {
   "cell_type": "code",
   "execution_count": 135,
   "metadata": {},
   "outputs": [
    {
     "name": "stdout",
     "output_type": "stream",
     "text": [
      "Banana Muffins I Recipe - Allrecipes.com\n"
     ]
    },
    {
     "data": {
      "text/plain": [
       "('Banana Muffins I',\n",
       " ['1 cup all-purpose flour',\n",
       "  '1 tablespoon baking powder',\n",
       "  '1/2 teaspoon baking soda',\n",
       "  '1/4 teaspoon salt',\n",
       "  '1 cup mashed ripe banana',\n",
       "  '1/4 cup white sugar',\n",
       "  '1/4 cup sour cream',\n",
       "  '1 egg',\n",
       "  '1/2 teaspoon vanilla extract'],\n",
       " {'calories': '88',\n",
       "  'fat': '1.6g',\n",
       "  'cholesterol': '20mg',\n",
       "  'sodium': '194mg',\n",
       "  'totalcarbs': '16.9g',\n",
       "  'dietaryfiber': '0.8g',\n",
       "  'protein': '2g'},\n",
       " '4.3')"
      ]
     },
     "execution_count": 135,
     "metadata": {},
     "output_type": "execute_result"
    }
   ],
   "source": [
    "## Test\n",
    "soup = test_loader('0a7e6e2cae6d4da800d13ef59e760dd3.html');\n",
    "scrap_AllRecipe_com(soup)"
   ]
  },
  {
   "cell_type": "code",
   "execution_count": 136,
   "metadata": {},
   "outputs": [],
   "source": [
    "# TODO: AWESOME!!! FOOD SUBSTITIONS GONNA CHECK FOR OTHER WEBSITE\n",
    "# http://thatsmyhome.com/food-substitutions/"
   ]
  }
 ],
 "metadata": {
  "kernelspec": {
   "display_name": "Python 3",
   "language": "python",
   "name": "python3"
  },
  "language_info": {
   "codemirror_mode": {
    "name": "ipython",
    "version": 3
   },
   "file_extension": ".py",
   "mimetype": "text/x-python",
   "name": "python",
   "nbconvert_exporter": "python",
   "pygments_lexer": "ipython3",
   "version": "3.6.6"
  }
 },
 "nbformat": 4,
 "nbformat_minor": 2
}
